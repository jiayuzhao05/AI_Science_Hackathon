{
 "cells": [
  {
   "cell_type": "markdown",
   "id": "91f936f3-1e74-4024-8ffd-dc3216e8cb22",
   "metadata": {},
   "source": [
    "This jupyter notebook teaches you how to interact with the real neuronal networks (static state function).\n",
    "\n",
    "Before you run this code, set your group_id and password in \"auth.py\". Ask your mentor for your password/id."
   ]
  },
  {
   "cell_type": "code",
   "execution_count": null,
   "id": "92edcf65-93c1-4396-90d0-4572ec09c2f4",
   "metadata": {},
   "outputs": [],
   "source": [
    "import gymnasium as gym\n",
    "import numpy as np\n",
    "\n",
    "# Add parent directory to path\n",
    "import sys\n",
    "from pathlib import Path\n",
    "current_dir = Path().resolve()\n",
    "root_dir = current_dir.parent\n",
    "if str(root_dir) not in sys.path:\n",
    "    sys.path.insert(0,str(root_dir))\n",
    "\n",
    "from Gyms.RealNetworkSync import RealNetworkSync"
   ]
  },
  {
   "cell_type": "code",
   "execution_count": null,
   "id": "a936a1e1-9664-4e4a-b123-bca7d7243b04",
   "metadata": {},
   "outputs": [],
   "source": [
    "# Define size of state and action spaces, as well as stimulation period\n",
    "state_dim   = 4   # Dimension of reduced state space\n",
    "action_dim  = 5   # Number of stimuli in action space\n",
    "circuit_id  = 0   # Each group has 4 biological/simulated circuits. You choose here which one you want to use. Must be in {0,1,2,3}"
   ]
  },
  {
   "cell_type": "code",
   "execution_count": null,
   "id": "032bf98f-ef15-4ec8-a124-6cb9b244c8c4",
   "metadata": {},
   "outputs": [],
   "source": [
    "# Create environment and initialize it\n",
    "env      = RealNetworkSync(action_dim=action_dim,state_dim=state_dim,circuit_id=circuit_id)\n",
    "state, _ = env.reset()\n",
    "env.render() # This function gives you the current state + reward, which both is 0 after initialization"
   ]
  },
  {
   "cell_type": "code",
   "execution_count": null,
   "id": "9d458a3c-129c-4bf5-a661-8eaba78fb094",
   "metadata": {},
   "outputs": [],
   "source": [
    "# Example code, that stimulates the network 100 times with a randomly sampled action, while calculating also the average reward received\n",
    "\n",
    "total_reward = 0\n",
    "action_count = 0\n",
    "\n",
    "for _ in range(1000):\n",
    "    # For simplicity, choose a random action\n",
    "    action = env.action_space.sample()\n",
    "    print(f\"Stimulate with action: {action}\")\n",
    "    \n",
    "    state, reward, terminated, truncated, info = env.step(action)\n",
    "    total_reward += reward\n",
    "    action_count += 1\n",
    "\n",
    "    # Plot information\n",
    "    print(f\"Info: {info}\")\n",
    "    print(f\"State: {state}, Reward: {reward}\")\n",
    "\n",
    "    print(\"-----------------------------\")"
   ]
  },
  {
   "cell_type": "code",
   "execution_count": null,
   "id": "dafaf1ea-cdc6-4541-8120-5056f692ec90",
   "metadata": {},
   "outputs": [],
   "source": [
    "print(f\"Average reward: {total_reward/action_count}\")"
   ]
  }
 ],
 "metadata": {
  "kernelspec": {
   "display_name": "Python 3 (ipykernel)",
   "language": "python",
   "name": "python3"
  },
  "language_info": {
   "codemirror_mode": {
    "name": "ipython",
    "version": 3
   },
   "file_extension": ".py",
   "mimetype": "text/x-python",
   "name": "python",
   "nbconvert_exporter": "python",
   "pygments_lexer": "ipython3",
   "version": "3.11.9"
  }
 },
 "nbformat": 4,
 "nbformat_minor": 5
}
